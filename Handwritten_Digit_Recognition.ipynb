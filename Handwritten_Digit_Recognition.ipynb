{
  "nbformat": 4,
  "nbformat_minor": 0,
  "metadata": {
    "colab": {
      "provenance": []
    },
    "kernelspec": {
      "name": "python3",
      "display_name": "Python 3"
    },
    "language_info": {
      "name": "python"
    }
  },
  "cells": [
    {
      "cell_type": "code",
      "execution_count": 2,
      "metadata": {
        "id": "R4yj5_wJxSpn"
      },
      "outputs": [],
      "source": [
        "from torchvision import datasets\n",
        "from torchvision.transforms import ToTensor"
      ]
    },
    {
      "cell_type": "code",
      "source": [
        "train_data = datasets.MNIST(\n",
        "    root = 'data',\n",
        "    train = True,\n",
        "    transform = ToTensor(),\n",
        "    download = True\n",
        ")\n",
        "\n",
        "test_data = datasets.MNIST(\n",
        "    root = 'data',\n",
        "    train = False,\n",
        "    transform = ToTensor(),\n",
        "    download = True\n",
        ")"
      ],
      "metadata": {
        "colab": {
          "base_uri": "https://localhost:8080/"
        },
        "id": "mQbWGUVS0Hnq",
        "outputId": "82f3daac-6c6b-4ab5-a32a-e52766001b87"
      },
      "execution_count": 3,
      "outputs": [
        {
          "output_type": "stream",
          "name": "stderr",
          "text": [
            "100%|██████████| 9.91M/9.91M [00:00<00:00, 34.4MB/s]\n",
            "100%|██████████| 28.9k/28.9k [00:00<00:00, 1.05MB/s]\n",
            "100%|██████████| 1.65M/1.65M [00:00<00:00, 9.92MB/s]\n",
            "100%|██████████| 4.54k/4.54k [00:00<00:00, 4.51MB/s]\n"
          ]
        }
      ]
    },
    {
      "cell_type": "code",
      "source": [
        "train_data"
      ],
      "metadata": {
        "colab": {
          "base_uri": "https://localhost:8080/"
        },
        "id": "hCA44A8M1Lcu",
        "outputId": "186826ae-3fcd-46c8-f2bb-9438530063f9"
      },
      "execution_count": 4,
      "outputs": [
        {
          "output_type": "execute_result",
          "data": {
            "text/plain": [
              "Dataset MNIST\n",
              "    Number of datapoints: 60000\n",
              "    Root location: data\n",
              "    Split: Train\n",
              "    StandardTransform\n",
              "Transform: ToTensor()"
            ]
          },
          "metadata": {},
          "execution_count": 4
        }
      ]
    },
    {
      "cell_type": "code",
      "source": [
        "test_data"
      ],
      "metadata": {
        "colab": {
          "base_uri": "https://localhost:8080/"
        },
        "id": "VPv9WDYp1UWC",
        "outputId": "c9857aca-0c10-40f5-a200-a8379b5c2cca"
      },
      "execution_count": 5,
      "outputs": [
        {
          "output_type": "execute_result",
          "data": {
            "text/plain": [
              "Dataset MNIST\n",
              "    Number of datapoints: 10000\n",
              "    Root location: data\n",
              "    Split: Test\n",
              "    StandardTransform\n",
              "Transform: ToTensor()"
            ]
          },
          "metadata": {},
          "execution_count": 5
        }
      ]
    },
    {
      "cell_type": "code",
      "source": [
        "train_data.data"
      ],
      "metadata": {
        "colab": {
          "base_uri": "https://localhost:8080/"
        },
        "id": "wuypbMi31ZGq",
        "outputId": "35f5d7b4-241a-471f-88ee-a0ae9e0c9302"
      },
      "execution_count": 6,
      "outputs": [
        {
          "output_type": "execute_result",
          "data": {
            "text/plain": [
              "tensor([[[0, 0, 0,  ..., 0, 0, 0],\n",
              "         [0, 0, 0,  ..., 0, 0, 0],\n",
              "         [0, 0, 0,  ..., 0, 0, 0],\n",
              "         ...,\n",
              "         [0, 0, 0,  ..., 0, 0, 0],\n",
              "         [0, 0, 0,  ..., 0, 0, 0],\n",
              "         [0, 0, 0,  ..., 0, 0, 0]],\n",
              "\n",
              "        [[0, 0, 0,  ..., 0, 0, 0],\n",
              "         [0, 0, 0,  ..., 0, 0, 0],\n",
              "         [0, 0, 0,  ..., 0, 0, 0],\n",
              "         ...,\n",
              "         [0, 0, 0,  ..., 0, 0, 0],\n",
              "         [0, 0, 0,  ..., 0, 0, 0],\n",
              "         [0, 0, 0,  ..., 0, 0, 0]],\n",
              "\n",
              "        [[0, 0, 0,  ..., 0, 0, 0],\n",
              "         [0, 0, 0,  ..., 0, 0, 0],\n",
              "         [0, 0, 0,  ..., 0, 0, 0],\n",
              "         ...,\n",
              "         [0, 0, 0,  ..., 0, 0, 0],\n",
              "         [0, 0, 0,  ..., 0, 0, 0],\n",
              "         [0, 0, 0,  ..., 0, 0, 0]],\n",
              "\n",
              "        ...,\n",
              "\n",
              "        [[0, 0, 0,  ..., 0, 0, 0],\n",
              "         [0, 0, 0,  ..., 0, 0, 0],\n",
              "         [0, 0, 0,  ..., 0, 0, 0],\n",
              "         ...,\n",
              "         [0, 0, 0,  ..., 0, 0, 0],\n",
              "         [0, 0, 0,  ..., 0, 0, 0],\n",
              "         [0, 0, 0,  ..., 0, 0, 0]],\n",
              "\n",
              "        [[0, 0, 0,  ..., 0, 0, 0],\n",
              "         [0, 0, 0,  ..., 0, 0, 0],\n",
              "         [0, 0, 0,  ..., 0, 0, 0],\n",
              "         ...,\n",
              "         [0, 0, 0,  ..., 0, 0, 0],\n",
              "         [0, 0, 0,  ..., 0, 0, 0],\n",
              "         [0, 0, 0,  ..., 0, 0, 0]],\n",
              "\n",
              "        [[0, 0, 0,  ..., 0, 0, 0],\n",
              "         [0, 0, 0,  ..., 0, 0, 0],\n",
              "         [0, 0, 0,  ..., 0, 0, 0],\n",
              "         ...,\n",
              "         [0, 0, 0,  ..., 0, 0, 0],\n",
              "         [0, 0, 0,  ..., 0, 0, 0],\n",
              "         [0, 0, 0,  ..., 0, 0, 0]]], dtype=torch.uint8)"
            ]
          },
          "metadata": {},
          "execution_count": 6
        }
      ]
    },
    {
      "cell_type": "code",
      "source": [
        "train_data.data.shape"
      ],
      "metadata": {
        "colab": {
          "base_uri": "https://localhost:8080/"
        },
        "id": "3rwJaXbn1h4Y",
        "outputId": "bb76c925-1278-444c-ed2f-585b5f2b144c"
      },
      "execution_count": 7,
      "outputs": [
        {
          "output_type": "execute_result",
          "data": {
            "text/plain": [
              "torch.Size([60000, 28, 28])"
            ]
          },
          "metadata": {},
          "execution_count": 7
        }
      ]
    },
    {
      "cell_type": "code",
      "source": [
        "test_data.data.shape"
      ],
      "metadata": {
        "colab": {
          "base_uri": "https://localhost:8080/"
        },
        "id": "oBtMwhm11mdr",
        "outputId": "70b06556-16ab-41d9-de39-d598a2a1fbdc"
      },
      "execution_count": 8,
      "outputs": [
        {
          "output_type": "execute_result",
          "data": {
            "text/plain": [
              "torch.Size([10000, 28, 28])"
            ]
          },
          "metadata": {},
          "execution_count": 8
        }
      ]
    },
    {
      "cell_type": "code",
      "source": [
        "train_data.targets.size()"
      ],
      "metadata": {
        "colab": {
          "base_uri": "https://localhost:8080/"
        },
        "id": "bVsxvGpJ15WT",
        "outputId": "ed611e8a-4abd-4cc7-8627-a3104055bb7a"
      },
      "execution_count": 9,
      "outputs": [
        {
          "output_type": "execute_result",
          "data": {
            "text/plain": [
              "torch.Size([60000])"
            ]
          },
          "metadata": {},
          "execution_count": 9
        }
      ]
    },
    {
      "cell_type": "code",
      "source": [
        "train_data.targets"
      ],
      "metadata": {
        "colab": {
          "base_uri": "https://localhost:8080/"
        },
        "id": "YtyQpcXp2CFy",
        "outputId": "309cbb9a-8ea1-4261-b20c-00fdfee18cf7"
      },
      "execution_count": 10,
      "outputs": [
        {
          "output_type": "execute_result",
          "data": {
            "text/plain": [
              "tensor([5, 0, 4,  ..., 5, 6, 8])"
            ]
          },
          "metadata": {},
          "execution_count": 10
        }
      ]
    },
    {
      "cell_type": "code",
      "source": [
        "from torch.utils.data import DataLoader\n",
        "\n",
        "loaders = {\n",
        "\n",
        "           'train': DataLoader(train_data,\n",
        "                               batch_size=100,\n",
        "                               shuffle=True,\n",
        "                               num_workers=1),\n",
        "           'test': DataLoader(test_data,\n",
        "                               batch_size=100,\n",
        "                               shuffle=True,\n",
        "                               num_workers=1),\n",
        "}"
      ],
      "metadata": {
        "id": "r1VUDgZg2IFd"
      },
      "execution_count": 11,
      "outputs": []
    },
    {
      "cell_type": "code",
      "source": [
        "loaders"
      ],
      "metadata": {
        "colab": {
          "base_uri": "https://localhost:8080/"
        },
        "id": "fut9pNGK3HBB",
        "outputId": "85f0ee16-39bf-48e2-d4d5-1ca99c741ddc"
      },
      "execution_count": 12,
      "outputs": [
        {
          "output_type": "execute_result",
          "data": {
            "text/plain": [
              "{'train': <torch.utils.data.dataloader.DataLoader at 0x78fabe4c9310>,\n",
              " 'test': <torch.utils.data.dataloader.DataLoader at 0x78fa9e2ac790>}"
            ]
          },
          "metadata": {},
          "execution_count": 12
        }
      ]
    },
    {
      "cell_type": "code",
      "source": [
        "import torch.nn as nn\n",
        "import torch.nn.functional as F\n",
        "import torch.optim as optim\n",
        "\n",
        "class CNN(nn.Module):\n",
        "\n",
        "  def __init__(self):\n",
        "    super(CNN, self).__init__()\n",
        "\n",
        "    self.conv1 = nn.Conv2d(1, 10, kernel_size=5)\n",
        "    self.conv2 = nn.Conv2d(10, 20, kernel_size=5)\n",
        "    self.conv2_drop = nn.Dropout2d()\n",
        "    self.fc1 = nn.Linear(320, 50)\n",
        "    self.fc2 = nn.Linear(50, 10)\n",
        "\n",
        "  def forward(self, x):\n",
        "    x = F.relu(F.max_pool2d(self.conv1(x), 2))\n",
        "    x = F.relu(F.max_pool2d(self.conv2_drop(self.conv2(x)), 2))\n",
        "    x = x.view(-1, 320)\n",
        "    x = F.relu(self.fc1(x))\n",
        "    x = F.dropout(x, training=self.training)\n",
        "    x = self.fc2(x)\n",
        "\n",
        "    return F.softmax(x)\n",
        "\n"
      ],
      "metadata": {
        "id": "3N407_Y13KQE"
      },
      "execution_count": 13,
      "outputs": []
    },
    {
      "cell_type": "code",
      "source": [
        "import torch\n",
        "\n",
        "device = torch.device('cuda' if torch.cuda.is_available() else 'cpu')\n",
        "\n",
        "model = CNN().to(device)\n",
        "\n",
        "optimizer = optim.Adam(model.parameters(), lr=0.001)\n",
        "\n",
        "loss_fn = nn.CrossEntropyLoss()\n",
        "\n",
        "def train(epoch):\n",
        "  model.train()\n",
        "  for batch_idx, (data, target) in enumerate(loaders['train']):\n",
        "    data.target = data.to(device), target.to(device)\n",
        "    optimizer.zero_grad()\n",
        "    output = model(data)\n",
        "    loss = loss_fn(output, target)\n",
        "    loss.backward()\n",
        "    optimizer.step()\n",
        "    if batch_idx % 20 ==0:\n",
        "      print(f'Train Epoch: {epoch} [{batch_idx * len(data)}/{len(loaders[\"train\"].dataset)} ({100. * batch_idx / len(loaders[\"train\"]):.0f}%)]\\t{loss.item():.6f}')\n",
        "\n",
        "def test():\n",
        "  model.eval()\n",
        "\n",
        "  test_loss = 0\n",
        "  correct = 0\n",
        "\n",
        "  with torch.no_grad():\n",
        "    for data, target in loaders['test']:\n",
        "      data, target = data.to(device), target.to(device)\n",
        "      output = model(data)\n",
        "      test_loss += loss_fn(output, target).item()\n",
        "      pred = output.argmax(dim=1, keepdim=True)\n",
        "      correct += pred.eq(target.view_as(pred)).sum().item()\n",
        "\n",
        "    test_loss /= len(loaders['test'].dataset)\n",
        "    print(f'\\nTest set: Average loss: {test_loss:.4f}, Accuracy {correct}/{len(loaders[\"test\"].dataset)} ({100. * correct / len(loaders[\"test\"].dataset):.0f}%\\n)')"
      ],
      "metadata": {
        "id": "UzFMiLMI556V"
      },
      "execution_count": 16,
      "outputs": []
    },
    {
      "cell_type": "code",
      "source": [
        "for epoch in range(1, 11):\n",
        "  train(epoch)\n",
        "  test()"
      ],
      "metadata": {
        "colab": {
          "base_uri": "https://localhost:8080/"
        },
        "id": "XIEgIrlyDK2L",
        "outputId": "9246f338-ff3f-4678-c747-780a1f28d58c"
      },
      "execution_count": 17,
      "outputs": [
        {
          "output_type": "stream",
          "name": "stderr",
          "text": [
            "/tmp/ipython-input-13-3322621106.py:24: UserWarning: Implicit dimension choice for softmax has been deprecated. Change the call to include dim=X as an argument.\n",
            "  return F.softmax(x)\n"
          ]
        },
        {
          "output_type": "stream",
          "name": "stdout",
          "text": [
            "Train Epoch: 1 [0/60000 (0%)]\t2.303573\n",
            "Train Epoch: 1 [2000/60000 (3%)]\t2.297718\n",
            "Train Epoch: 1 [4000/60000 (7%)]\t2.198807\n",
            "Train Epoch: 1 [6000/60000 (10%)]\t1.965049\n",
            "Train Epoch: 1 [8000/60000 (13%)]\t1.842181\n",
            "Train Epoch: 1 [10000/60000 (17%)]\t1.785343\n",
            "Train Epoch: 1 [12000/60000 (20%)]\t1.769829\n",
            "Train Epoch: 1 [14000/60000 (23%)]\t1.783213\n",
            "Train Epoch: 1 [16000/60000 (27%)]\t1.728569\n",
            "Train Epoch: 1 [18000/60000 (30%)]\t1.715603\n",
            "Train Epoch: 1 [20000/60000 (33%)]\t1.731693\n",
            "Train Epoch: 1 [22000/60000 (37%)]\t1.593769\n",
            "Train Epoch: 1 [24000/60000 (40%)]\t1.687707\n",
            "Train Epoch: 1 [26000/60000 (43%)]\t1.717183\n",
            "Train Epoch: 1 [28000/60000 (47%)]\t1.618855\n",
            "Train Epoch: 1 [30000/60000 (50%)]\t1.685340\n",
            "Train Epoch: 1 [32000/60000 (53%)]\t1.604358\n",
            "Train Epoch: 1 [34000/60000 (57%)]\t1.608733\n",
            "Train Epoch: 1 [36000/60000 (60%)]\t1.678542\n",
            "Train Epoch: 1 [38000/60000 (63%)]\t1.620906\n",
            "Train Epoch: 1 [40000/60000 (67%)]\t1.690202\n",
            "Train Epoch: 1 [42000/60000 (70%)]\t1.592462\n",
            "Train Epoch: 1 [44000/60000 (73%)]\t1.588696\n",
            "Train Epoch: 1 [46000/60000 (77%)]\t1.646484\n",
            "Train Epoch: 1 [48000/60000 (80%)]\t1.642881\n",
            "Train Epoch: 1 [50000/60000 (83%)]\t1.632166\n",
            "Train Epoch: 1 [52000/60000 (87%)]\t1.642143\n",
            "Train Epoch: 1 [54000/60000 (90%)]\t1.592078\n",
            "Train Epoch: 1 [56000/60000 (93%)]\t1.581458\n",
            "Train Epoch: 1 [58000/60000 (97%)]\t1.580920\n",
            "\n",
            "Test set: Average loss: 0.0152, Accuracy 9400/10000 (94%\n",
            ")\n",
            "Train Epoch: 2 [0/60000 (0%)]\t1.556186\n",
            "Train Epoch: 2 [2000/60000 (3%)]\t1.626134\n",
            "Train Epoch: 2 [4000/60000 (7%)]\t1.633313\n",
            "Train Epoch: 2 [6000/60000 (10%)]\t1.627035\n",
            "Train Epoch: 2 [8000/60000 (13%)]\t1.590128\n",
            "Train Epoch: 2 [10000/60000 (17%)]\t1.543063\n",
            "Train Epoch: 2 [12000/60000 (20%)]\t1.609782\n",
            "Train Epoch: 2 [14000/60000 (23%)]\t1.580765\n",
            "Train Epoch: 2 [16000/60000 (27%)]\t1.582870\n",
            "Train Epoch: 2 [18000/60000 (30%)]\t1.563893\n",
            "Train Epoch: 2 [20000/60000 (33%)]\t1.529370\n",
            "Train Epoch: 2 [22000/60000 (37%)]\t1.562030\n",
            "Train Epoch: 2 [24000/60000 (40%)]\t1.552069\n",
            "Train Epoch: 2 [26000/60000 (43%)]\t1.569837\n",
            "Train Epoch: 2 [28000/60000 (47%)]\t1.563534\n",
            "Train Epoch: 2 [30000/60000 (50%)]\t1.567461\n",
            "Train Epoch: 2 [32000/60000 (53%)]\t1.593375\n",
            "Train Epoch: 2 [34000/60000 (57%)]\t1.563046\n",
            "Train Epoch: 2 [36000/60000 (60%)]\t1.577272\n",
            "Train Epoch: 2 [38000/60000 (63%)]\t1.570240\n",
            "Train Epoch: 2 [40000/60000 (67%)]\t1.542946\n",
            "Train Epoch: 2 [42000/60000 (70%)]\t1.570919\n",
            "Train Epoch: 2 [44000/60000 (73%)]\t1.608687\n",
            "Train Epoch: 2 [46000/60000 (77%)]\t1.558710\n",
            "Train Epoch: 2 [48000/60000 (80%)]\t1.587611\n",
            "Train Epoch: 2 [50000/60000 (83%)]\t1.561675\n",
            "Train Epoch: 2 [52000/60000 (87%)]\t1.530329\n",
            "Train Epoch: 2 [54000/60000 (90%)]\t1.543205\n",
            "Train Epoch: 2 [56000/60000 (93%)]\t1.584252\n",
            "Train Epoch: 2 [58000/60000 (97%)]\t1.587177\n",
            "\n",
            "Test set: Average loss: 0.0151, Accuracy 9535/10000 (95%\n",
            ")\n",
            "Train Epoch: 3 [0/60000 (0%)]\t1.606529\n",
            "Train Epoch: 3 [2000/60000 (3%)]\t1.577422\n",
            "Train Epoch: 3 [4000/60000 (7%)]\t1.572484\n",
            "Train Epoch: 3 [6000/60000 (10%)]\t1.531617\n",
            "Train Epoch: 3 [8000/60000 (13%)]\t1.553583\n",
            "Train Epoch: 3 [10000/60000 (17%)]\t1.525021\n",
            "Train Epoch: 3 [12000/60000 (20%)]\t1.585754\n",
            "Train Epoch: 3 [14000/60000 (23%)]\t1.571637\n",
            "Train Epoch: 3 [16000/60000 (27%)]\t1.566086\n",
            "Train Epoch: 3 [18000/60000 (30%)]\t1.584281\n",
            "Train Epoch: 3 [20000/60000 (33%)]\t1.568926\n",
            "Train Epoch: 3 [22000/60000 (37%)]\t1.587283\n",
            "Train Epoch: 3 [24000/60000 (40%)]\t1.614522\n",
            "Train Epoch: 3 [26000/60000 (43%)]\t1.541001\n",
            "Train Epoch: 3 [28000/60000 (47%)]\t1.535148\n",
            "Train Epoch: 3 [30000/60000 (50%)]\t1.534878\n",
            "Train Epoch: 3 [32000/60000 (53%)]\t1.515192\n",
            "Train Epoch: 3 [34000/60000 (57%)]\t1.540741\n",
            "Train Epoch: 3 [36000/60000 (60%)]\t1.526376\n",
            "Train Epoch: 3 [38000/60000 (63%)]\t1.529173\n",
            "Train Epoch: 3 [40000/60000 (67%)]\t1.574145\n",
            "Train Epoch: 3 [42000/60000 (70%)]\t1.537810\n",
            "Train Epoch: 3 [44000/60000 (73%)]\t1.581083\n",
            "Train Epoch: 3 [46000/60000 (77%)]\t1.580069\n",
            "Train Epoch: 3 [48000/60000 (80%)]\t1.545031\n",
            "Train Epoch: 3 [50000/60000 (83%)]\t1.543476\n",
            "Train Epoch: 3 [52000/60000 (87%)]\t1.541363\n",
            "Train Epoch: 3 [54000/60000 (90%)]\t1.568123\n",
            "Train Epoch: 3 [56000/60000 (93%)]\t1.532423\n",
            "Train Epoch: 3 [58000/60000 (97%)]\t1.530968\n",
            "\n",
            "Test set: Average loss: 0.0150, Accuracy 9618/10000 (96%\n",
            ")\n",
            "Train Epoch: 4 [0/60000 (0%)]\t1.509630\n",
            "Train Epoch: 4 [2000/60000 (3%)]\t1.527157\n",
            "Train Epoch: 4 [4000/60000 (7%)]\t1.559467\n",
            "Train Epoch: 4 [6000/60000 (10%)]\t1.565432\n",
            "Train Epoch: 4 [8000/60000 (13%)]\t1.640005\n",
            "Train Epoch: 4 [10000/60000 (17%)]\t1.542800\n",
            "Train Epoch: 4 [12000/60000 (20%)]\t1.573725\n",
            "Train Epoch: 4 [14000/60000 (23%)]\t1.575334\n",
            "Train Epoch: 4 [16000/60000 (27%)]\t1.563586\n",
            "Train Epoch: 4 [18000/60000 (30%)]\t1.559426\n",
            "Train Epoch: 4 [20000/60000 (33%)]\t1.557811\n",
            "Train Epoch: 4 [22000/60000 (37%)]\t1.579625\n",
            "Train Epoch: 4 [24000/60000 (40%)]\t1.593235\n",
            "Train Epoch: 4 [26000/60000 (43%)]\t1.566362\n",
            "Train Epoch: 4 [28000/60000 (47%)]\t1.541710\n",
            "Train Epoch: 4 [30000/60000 (50%)]\t1.510576\n",
            "Train Epoch: 4 [32000/60000 (53%)]\t1.529812\n",
            "Train Epoch: 4 [34000/60000 (57%)]\t1.581795\n",
            "Train Epoch: 4 [36000/60000 (60%)]\t1.520735\n",
            "Train Epoch: 4 [38000/60000 (63%)]\t1.571196\n",
            "Train Epoch: 4 [40000/60000 (67%)]\t1.528543\n",
            "Train Epoch: 4 [42000/60000 (70%)]\t1.536209\n",
            "Train Epoch: 4 [44000/60000 (73%)]\t1.519303\n",
            "Train Epoch: 4 [46000/60000 (77%)]\t1.540407\n",
            "Train Epoch: 4 [48000/60000 (80%)]\t1.532622\n",
            "Train Epoch: 4 [50000/60000 (83%)]\t1.580868\n",
            "Train Epoch: 4 [52000/60000 (87%)]\t1.542348\n",
            "Train Epoch: 4 [54000/60000 (90%)]\t1.532485\n",
            "Train Epoch: 4 [56000/60000 (93%)]\t1.517009\n",
            "Train Epoch: 4 [58000/60000 (97%)]\t1.538935\n",
            "\n",
            "Test set: Average loss: 0.0149, Accuracy 9684/10000 (97%\n",
            ")\n",
            "Train Epoch: 5 [0/60000 (0%)]\t1.525450\n",
            "Train Epoch: 5 [2000/60000 (3%)]\t1.553200\n",
            "Train Epoch: 5 [4000/60000 (7%)]\t1.526987\n",
            "Train Epoch: 5 [6000/60000 (10%)]\t1.559847\n",
            "Train Epoch: 5 [8000/60000 (13%)]\t1.578516\n",
            "Train Epoch: 5 [10000/60000 (17%)]\t1.553326\n",
            "Train Epoch: 5 [12000/60000 (20%)]\t1.490836\n",
            "Train Epoch: 5 [14000/60000 (23%)]\t1.579684\n",
            "Train Epoch: 5 [16000/60000 (27%)]\t1.549351\n",
            "Train Epoch: 5 [18000/60000 (30%)]\t1.535171\n",
            "Train Epoch: 5 [20000/60000 (33%)]\t1.534513\n",
            "Train Epoch: 5 [22000/60000 (37%)]\t1.508608\n",
            "Train Epoch: 5 [24000/60000 (40%)]\t1.548749\n",
            "Train Epoch: 5 [26000/60000 (43%)]\t1.511615\n",
            "Train Epoch: 5 [28000/60000 (47%)]\t1.528491\n",
            "Train Epoch: 5 [30000/60000 (50%)]\t1.532248\n",
            "Train Epoch: 5 [32000/60000 (53%)]\t1.537869\n",
            "Train Epoch: 5 [34000/60000 (57%)]\t1.561927\n",
            "Train Epoch: 5 [36000/60000 (60%)]\t1.529277\n",
            "Train Epoch: 5 [38000/60000 (63%)]\t1.541494\n",
            "Train Epoch: 5 [40000/60000 (67%)]\t1.470164\n",
            "Train Epoch: 5 [42000/60000 (70%)]\t1.551745\n",
            "Train Epoch: 5 [44000/60000 (73%)]\t1.548430\n",
            "Train Epoch: 5 [46000/60000 (77%)]\t1.553837\n",
            "Train Epoch: 5 [48000/60000 (80%)]\t1.579790\n",
            "Train Epoch: 5 [50000/60000 (83%)]\t1.519938\n",
            "Train Epoch: 5 [52000/60000 (87%)]\t1.511500\n",
            "Train Epoch: 5 [54000/60000 (90%)]\t1.578142\n",
            "Train Epoch: 5 [56000/60000 (93%)]\t1.512446\n",
            "Train Epoch: 5 [58000/60000 (97%)]\t1.533125\n",
            "\n",
            "Test set: Average loss: 0.0149, Accuracy 9712/10000 (97%\n",
            ")\n",
            "Train Epoch: 6 [0/60000 (0%)]\t1.549282\n",
            "Train Epoch: 6 [2000/60000 (3%)]\t1.528792\n",
            "Train Epoch: 6 [4000/60000 (7%)]\t1.534436\n",
            "Train Epoch: 6 [6000/60000 (10%)]\t1.494518\n",
            "Train Epoch: 6 [8000/60000 (13%)]\t1.565873\n",
            "Train Epoch: 6 [10000/60000 (17%)]\t1.515705\n",
            "Train Epoch: 6 [12000/60000 (20%)]\t1.523330\n",
            "Train Epoch: 6 [14000/60000 (23%)]\t1.553669\n",
            "Train Epoch: 6 [16000/60000 (27%)]\t1.559422\n",
            "Train Epoch: 6 [18000/60000 (30%)]\t1.537155\n",
            "Train Epoch: 6 [20000/60000 (33%)]\t1.574547\n",
            "Train Epoch: 6 [22000/60000 (37%)]\t1.576775\n",
            "Train Epoch: 6 [24000/60000 (40%)]\t1.535919\n",
            "Train Epoch: 6 [26000/60000 (43%)]\t1.525196\n",
            "Train Epoch: 6 [28000/60000 (47%)]\t1.511633\n",
            "Train Epoch: 6 [30000/60000 (50%)]\t1.520707\n",
            "Train Epoch: 6 [32000/60000 (53%)]\t1.577324\n",
            "Train Epoch: 6 [34000/60000 (57%)]\t1.548852\n",
            "Train Epoch: 6 [36000/60000 (60%)]\t1.555720\n",
            "Train Epoch: 6 [38000/60000 (63%)]\t1.540056\n",
            "Train Epoch: 6 [40000/60000 (67%)]\t1.499924\n",
            "Train Epoch: 6 [42000/60000 (70%)]\t1.536857\n",
            "Train Epoch: 6 [44000/60000 (73%)]\t1.538516\n",
            "Train Epoch: 6 [46000/60000 (77%)]\t1.543290\n",
            "Train Epoch: 6 [48000/60000 (80%)]\t1.531035\n",
            "Train Epoch: 6 [50000/60000 (83%)]\t1.541511\n",
            "Train Epoch: 6 [52000/60000 (87%)]\t1.523800\n",
            "Train Epoch: 6 [54000/60000 (90%)]\t1.486205\n",
            "Train Epoch: 6 [56000/60000 (93%)]\t1.566417\n",
            "Train Epoch: 6 [58000/60000 (97%)]\t1.546788\n",
            "\n",
            "Test set: Average loss: 0.0149, Accuracy 9719/10000 (97%\n",
            ")\n",
            "Train Epoch: 7 [0/60000 (0%)]\t1.562361\n",
            "Train Epoch: 7 [2000/60000 (3%)]\t1.514423\n",
            "Train Epoch: 7 [4000/60000 (7%)]\t1.497422\n",
            "Train Epoch: 7 [6000/60000 (10%)]\t1.551165\n",
            "Train Epoch: 7 [8000/60000 (13%)]\t1.540454\n",
            "Train Epoch: 7 [10000/60000 (17%)]\t1.555132\n",
            "Train Epoch: 7 [12000/60000 (20%)]\t1.524413\n",
            "Train Epoch: 7 [14000/60000 (23%)]\t1.533569\n",
            "Train Epoch: 7 [16000/60000 (27%)]\t1.482767\n",
            "Train Epoch: 7 [18000/60000 (30%)]\t1.502551\n",
            "Train Epoch: 7 [20000/60000 (33%)]\t1.560845\n",
            "Train Epoch: 7 [22000/60000 (37%)]\t1.484301\n",
            "Train Epoch: 7 [24000/60000 (40%)]\t1.526072\n",
            "Train Epoch: 7 [26000/60000 (43%)]\t1.515943\n",
            "Train Epoch: 7 [28000/60000 (47%)]\t1.542472\n",
            "Train Epoch: 7 [30000/60000 (50%)]\t1.543135\n",
            "Train Epoch: 7 [32000/60000 (53%)]\t1.533563\n",
            "Train Epoch: 7 [34000/60000 (57%)]\t1.546456\n",
            "Train Epoch: 7 [36000/60000 (60%)]\t1.510769\n",
            "Train Epoch: 7 [38000/60000 (63%)]\t1.578408\n",
            "Train Epoch: 7 [40000/60000 (67%)]\t1.540882\n",
            "Train Epoch: 7 [42000/60000 (70%)]\t1.528914\n",
            "Train Epoch: 7 [44000/60000 (73%)]\t1.516318\n",
            "Train Epoch: 7 [46000/60000 (77%)]\t1.524958\n",
            "Train Epoch: 7 [48000/60000 (80%)]\t1.495886\n",
            "Train Epoch: 7 [50000/60000 (83%)]\t1.509718\n",
            "Train Epoch: 7 [52000/60000 (87%)]\t1.543246\n",
            "Train Epoch: 7 [54000/60000 (90%)]\t1.477894\n",
            "Train Epoch: 7 [56000/60000 (93%)]\t1.542475\n",
            "Train Epoch: 7 [58000/60000 (97%)]\t1.514853\n",
            "\n",
            "Test set: Average loss: 0.0149, Accuracy 9737/10000 (97%\n",
            ")\n",
            "Train Epoch: 8 [0/60000 (0%)]\t1.589391\n",
            "Train Epoch: 8 [2000/60000 (3%)]\t1.554047\n",
            "Train Epoch: 8 [4000/60000 (7%)]\t1.533563\n",
            "Train Epoch: 8 [6000/60000 (10%)]\t1.563610\n",
            "Train Epoch: 8 [8000/60000 (13%)]\t1.537822\n",
            "Train Epoch: 8 [10000/60000 (17%)]\t1.512936\n",
            "Train Epoch: 8 [12000/60000 (20%)]\t1.537363\n",
            "Train Epoch: 8 [14000/60000 (23%)]\t1.506119\n",
            "Train Epoch: 8 [16000/60000 (27%)]\t1.509948\n",
            "Train Epoch: 8 [18000/60000 (30%)]\t1.516676\n",
            "Train Epoch: 8 [20000/60000 (33%)]\t1.548104\n",
            "Train Epoch: 8 [22000/60000 (37%)]\t1.527005\n",
            "Train Epoch: 8 [24000/60000 (40%)]\t1.523404\n",
            "Train Epoch: 8 [26000/60000 (43%)]\t1.541182\n",
            "Train Epoch: 8 [28000/60000 (47%)]\t1.566582\n",
            "Train Epoch: 8 [30000/60000 (50%)]\t1.533390\n",
            "Train Epoch: 8 [32000/60000 (53%)]\t1.528647\n",
            "Train Epoch: 8 [34000/60000 (57%)]\t1.536669\n",
            "Train Epoch: 8 [36000/60000 (60%)]\t1.538822\n",
            "Train Epoch: 8 [38000/60000 (63%)]\t1.524835\n",
            "Train Epoch: 8 [40000/60000 (67%)]\t1.497857\n",
            "Train Epoch: 8 [42000/60000 (70%)]\t1.472335\n",
            "Train Epoch: 8 [44000/60000 (73%)]\t1.503372\n",
            "Train Epoch: 8 [46000/60000 (77%)]\t1.513609\n",
            "Train Epoch: 8 [48000/60000 (80%)]\t1.499008\n",
            "Train Epoch: 8 [50000/60000 (83%)]\t1.529076\n",
            "Train Epoch: 8 [52000/60000 (87%)]\t1.538195\n",
            "Train Epoch: 8 [54000/60000 (90%)]\t1.486720\n",
            "Train Epoch: 8 [56000/60000 (93%)]\t1.531988\n",
            "Train Epoch: 8 [58000/60000 (97%)]\t1.501266\n",
            "\n",
            "Test set: Average loss: 0.0149, Accuracy 9746/10000 (97%\n",
            ")\n",
            "Train Epoch: 9 [0/60000 (0%)]\t1.490240\n",
            "Train Epoch: 9 [2000/60000 (3%)]\t1.491793\n",
            "Train Epoch: 9 [4000/60000 (7%)]\t1.554995\n",
            "Train Epoch: 9 [6000/60000 (10%)]\t1.488566\n",
            "Train Epoch: 9 [8000/60000 (13%)]\t1.528550\n",
            "Train Epoch: 9 [10000/60000 (17%)]\t1.538517\n",
            "Train Epoch: 9 [12000/60000 (20%)]\t1.533556\n",
            "Train Epoch: 9 [14000/60000 (23%)]\t1.512682\n",
            "Train Epoch: 9 [16000/60000 (27%)]\t1.539467\n",
            "Train Epoch: 9 [18000/60000 (30%)]\t1.532097\n",
            "Train Epoch: 9 [20000/60000 (33%)]\t1.471007\n",
            "Train Epoch: 9 [22000/60000 (37%)]\t1.509307\n",
            "Train Epoch: 9 [24000/60000 (40%)]\t1.511724\n",
            "Train Epoch: 9 [26000/60000 (43%)]\t1.542349\n",
            "Train Epoch: 9 [28000/60000 (47%)]\t1.513494\n",
            "Train Epoch: 9 [30000/60000 (50%)]\t1.500692\n",
            "Train Epoch: 9 [32000/60000 (53%)]\t1.523494\n",
            "Train Epoch: 9 [34000/60000 (57%)]\t1.513671\n",
            "Train Epoch: 9 [36000/60000 (60%)]\t1.508464\n",
            "Train Epoch: 9 [38000/60000 (63%)]\t1.517380\n",
            "Train Epoch: 9 [40000/60000 (67%)]\t1.538476\n",
            "Train Epoch: 9 [42000/60000 (70%)]\t1.534653\n",
            "Train Epoch: 9 [44000/60000 (73%)]\t1.500185\n",
            "Train Epoch: 9 [46000/60000 (77%)]\t1.521333\n",
            "Train Epoch: 9 [48000/60000 (80%)]\t1.515118\n",
            "Train Epoch: 9 [50000/60000 (83%)]\t1.521006\n",
            "Train Epoch: 9 [52000/60000 (87%)]\t1.478208\n",
            "Train Epoch: 9 [54000/60000 (90%)]\t1.505381\n",
            "Train Epoch: 9 [56000/60000 (93%)]\t1.532132\n",
            "Train Epoch: 9 [58000/60000 (97%)]\t1.520913\n",
            "\n",
            "Test set: Average loss: 0.0149, Accuracy 9758/10000 (98%\n",
            ")\n",
            "Train Epoch: 10 [0/60000 (0%)]\t1.564949\n",
            "Train Epoch: 10 [2000/60000 (3%)]\t1.513461\n",
            "Train Epoch: 10 [4000/60000 (7%)]\t1.506474\n",
            "Train Epoch: 10 [6000/60000 (10%)]\t1.522559\n",
            "Train Epoch: 10 [8000/60000 (13%)]\t1.532168\n",
            "Train Epoch: 10 [10000/60000 (17%)]\t1.521338\n",
            "Train Epoch: 10 [12000/60000 (20%)]\t1.502353\n",
            "Train Epoch: 10 [14000/60000 (23%)]\t1.543332\n",
            "Train Epoch: 10 [16000/60000 (27%)]\t1.520006\n",
            "Train Epoch: 10 [18000/60000 (30%)]\t1.503007\n",
            "Train Epoch: 10 [20000/60000 (33%)]\t1.506656\n",
            "Train Epoch: 10 [22000/60000 (37%)]\t1.510224\n",
            "Train Epoch: 10 [24000/60000 (40%)]\t1.514522\n",
            "Train Epoch: 10 [26000/60000 (43%)]\t1.528302\n",
            "Train Epoch: 10 [28000/60000 (47%)]\t1.507442\n",
            "Train Epoch: 10 [30000/60000 (50%)]\t1.523049\n",
            "Train Epoch: 10 [32000/60000 (53%)]\t1.514771\n",
            "Train Epoch: 10 [34000/60000 (57%)]\t1.503638\n",
            "Train Epoch: 10 [36000/60000 (60%)]\t1.499372\n",
            "Train Epoch: 10 [38000/60000 (63%)]\t1.516952\n",
            "Train Epoch: 10 [40000/60000 (67%)]\t1.512831\n",
            "Train Epoch: 10 [42000/60000 (70%)]\t1.542741\n",
            "Train Epoch: 10 [44000/60000 (73%)]\t1.529485\n",
            "Train Epoch: 10 [46000/60000 (77%)]\t1.568508\n",
            "Train Epoch: 10 [48000/60000 (80%)]\t1.511191\n",
            "Train Epoch: 10 [50000/60000 (83%)]\t1.510367\n",
            "Train Epoch: 10 [52000/60000 (87%)]\t1.516338\n",
            "Train Epoch: 10 [54000/60000 (90%)]\t1.535366\n",
            "Train Epoch: 10 [56000/60000 (93%)]\t1.542994\n",
            "Train Epoch: 10 [58000/60000 (97%)]\t1.549859\n",
            "\n",
            "Test set: Average loss: 0.0148, Accuracy 9771/10000 (98%\n",
            ")\n"
          ]
        }
      ]
    },
    {
      "cell_type": "code",
      "source": [
        "device"
      ],
      "metadata": {
        "colab": {
          "base_uri": "https://localhost:8080/"
        },
        "id": "NvCAor2hFCjh",
        "outputId": "66539c03-be78-41da-faee-cdf4a87ad2ae"
      },
      "execution_count": 18,
      "outputs": [
        {
          "output_type": "execute_result",
          "data": {
            "text/plain": [
              "device(type='cpu')"
            ]
          },
          "metadata": {},
          "execution_count": 18
        }
      ]
    },
    {
      "cell_type": "code",
      "source": [
        "import matplotlib.pyplot as plt\n",
        "\n",
        "model.eval()\n",
        "\n",
        "data, target = test_data[5]\n",
        "\n",
        "data = data.unsqueeze(0).to(device)\n",
        "\n",
        "output = model(data)\n",
        "\n",
        "prediction = output.argmax(dim=1, keepdim=True).item()\n",
        "\n",
        "print(f'Prediction: {prediction}')\n",
        "\n",
        "image = data.squeeze(0).squeeze(0).cpu().numpy()\n",
        "\n",
        "plt.imshow(image, cmap='gray')\n",
        "plt.show()"
      ],
      "metadata": {
        "colab": {
          "base_uri": "https://localhost:8080/",
          "height": 503
        },
        "id": "1M0Fw0ANFGn8",
        "outputId": "b439cea2-9637-4086-ac98-1467dfd7f3c8"
      },
      "execution_count": 22,
      "outputs": [
        {
          "output_type": "stream",
          "name": "stdout",
          "text": [
            "Prediction: 1\n"
          ]
        },
        {
          "output_type": "stream",
          "name": "stderr",
          "text": [
            "/tmp/ipython-input-13-3322621106.py:24: UserWarning: Implicit dimension choice for softmax has been deprecated. Change the call to include dim=X as an argument.\n",
            "  return F.softmax(x)\n"
          ]
        },
        {
          "output_type": "display_data",
          "data": {
            "text/plain": [
              "<Figure size 640x480 with 1 Axes>"
            ],
            "image/png": "[encoded data removed]"
          },
          "metadata": {}
        }
      ]
    }
  ]
}